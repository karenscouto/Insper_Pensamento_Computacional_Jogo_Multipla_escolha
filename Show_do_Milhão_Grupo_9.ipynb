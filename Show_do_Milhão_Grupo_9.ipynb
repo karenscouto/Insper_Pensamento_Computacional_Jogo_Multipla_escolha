{
  "nbformat": 4,
  "nbformat_minor": 0,
  "metadata": {
    "colab": {
      "name": "Show do Milhão - Grupo 9.ipynb",
      "provenance": [],
      "collapsed_sections": []
    },
    "kernelspec": {
      "name": "python3",
      "display_name": "Python 3"
    },
    "language_info": {
      "name": "python"
    }
  },
  "cells": [
    {
      "cell_type": "code",
      "metadata": {
        "id": "p7bu71_3NSXa"
      },
      "source": [
        "Grupo: Karen Couto, Ricardo Grinbaum e Tiago Aguiar - Grupo 9"
      ],
      "execution_count": null,
      "outputs": []
    },
    {
      "cell_type": "code",
      "metadata": {
        "id": "6WqWy3cA7bqZ",
        "colab": {
          "base_uri": "https://localhost:8080/",
          "height": 831
        },
        "outputId": "1bd466c1-ebc6-4a5f-e540-fd45c7b77af8"
      },
      "source": [
        "print(\"SHOW DO MILHÃO - NERDS!\")\n",
        "print(\"Mostre para todos que todo seu tempo em frente ao video game não foi em vão.\")\n",
        "print('1- Existem cinco perguntas no total')\n",
        "print('2- Cada pergunta tem quatro alternativas')\n",
        "print('3- Cada pergunta vale um ponto')\n",
        "print('4- As perguntas só possuem uma resposta ')\n",
        "print('5- BOM PROVEITO')\n",
        "\n",
        "perguntas = { \n",
        "  'Pergunta 1': {\n",
        "  'pergunta':'Qual o jogo mais vendido da série GTA?', \n",
        "  'respostas': {'a': 'GTA San Andreas','b': 'GTA 5', 'c': 'GTA 4', 'd': 'GTA liberty city',}, \n",
        "  'resposta_certa': \"b\"\n",
        "  },\n",
        " \n",
        " 'Pergunta 2': {\n",
        "  'pergunta':'Qual foi o primeiro console?' ,\n",
        "  'respostas': {'a': 'Intellivision', 'b': 'Magnavox Odyssey', 'c': 'Atari 2600', 'd': 'Odyssey',},\n",
        "  'resposta_certa': 'a'\n",
        "},\n",
        "\n",
        "'Pergunta 3': {\n",
        "  'pergunta':'Qual jogo mais vendido do Super Nintendo?',\n",
        "  'respostas': {'a': 'Donkey Kong Country', 'b': 'Megaman X', 'c': 'Super Mario World', 'd': 'The Legend of Zelda',},\n",
        "  'resposta_certa': 'c'\n",
        "},\n",
        "\n",
        "'Pergunta 4': {\n",
        "  'pergunta':'Qual foi o primeiro nome do Mario?', \n",
        "  'respostas': {'a': 'Mario', 'b': 'Wario', 'c': 'Luigi', 'd': 'JumpMan',},\n",
        "  'resposta_certa': 'd'\n",
        "},\n",
        "\n",
        "'Pergunta 5': {\n",
        "  'pergunta':'Qual é o personagem mais roubado do Free Fire?',\n",
        "  'respostas': {'a': 'Wokoong', 'b': 'Alok', 'c': 'CR7 (Crono)', 'd': 'Paloma',},\n",
        "  'resposta_certa': 'c'\n",
        "  },\n",
        "}\n",
        "\n",
        "resposta_certa = 0\n",
        "\n",
        "for pk, pv in perguntas.items(): \n",
        "  print(f'{pk}: {pv[\"pergunta\"]}')\n",
        "\n",
        "for rk, rv in pv['respostas'].items(): \n",
        "  print(f'[{rk}]: {rv}')\n",
        "\n",
        "resposta_usuario = input('Sua resposta:')\n",
        "\n",
        "if resposta_usuario == pv['resposta_certa']:\n",
        "  print('Você acertou!')\n",
        "  resposta_certa +=1\n",
        "else:\n",
        "  print('Você errou!')\n",
        "return\n",
        "\n",
        "print(f\"Você acertou {resposta_certa} questões\")\n",
        "\n",
        "if resposta_certa == 5: \n",
        "  print('\\033[0;32m      GANHOOOOOOOU!!!  \\033[m')\n",
        "  print(\" MESTRE DO JOGUINHO!!!  \")\n",
        "  print()\n",
        "  print(\"       ___________      \")\n",
        "  print(\"      '._==_==_=_.'     \")\n",
        "  print(\"      .-\\\\:      /-.    \")\n",
        "  print(\"     | (|:.     |) |    \")\n",
        "  print(\"      '-|:.     |-'     \")\n",
        "  print(\"        \\\\::.    /      \")\n",
        "  print(\"         '::. .'        \")\n",
        "  print(\"           ) (          \")\n",
        "  print(\"         _.' '._        \")\n",
        "  print(\"        '-------'       \")\n",
        "\n",
        "else: print(\"GAME OVER!\") "
      ],
      "execution_count": 42,
      "outputs": [
        {
          "output_type": "stream",
          "name": "stdout",
          "text": [
            "SHOW DO MILHÃO - NERDS!\n",
            "Mostre para todos que todo seu tempo em frente ao video game não foi em vão.\n",
            "1- Existem cinco perguntas no total\n",
            "2- Cada pergunta tem quatro alternativas\n",
            "3- Cada pergunta vale um ponto\n",
            "4- As perguntas só possuem uma resposta \n",
            "5- BOM PROVEITO\n",
            "Pergunta 1: Qual o jogo mais vendido da série GTA?\n",
            "Pergunta 2: Qual foi o primeiro console?\n",
            "Pergunta 3: Qual jogo mais vendido do Super Nintendo?\n",
            "Pergunta 4: Qual foi o primeiro nome do Mario?\n",
            "Pergunta 5: Qual é o personagem mais roubado do Free Fire?\n",
            "[a]: Wokoong\n",
            "[b]: Alok\n",
            "[c]: CR7 (Crono)\n",
            "[d]: Paloma\n"
          ]
        },
        {
          "output_type": "error",
          "ename": "KeyboardInterrupt",
          "evalue": "ignored",
          "traceback": [
            "\u001b[0;31m---------------------------------------------------------------------------\u001b[0m",
            "\u001b[0;31mKeyboardInterrupt\u001b[0m                         Traceback (most recent call last)",
            "\u001b[0;32m/usr/local/lib/python3.7/dist-packages/ipykernel/kernelbase.py\u001b[0m in \u001b[0;36m_input_request\u001b[0;34m(self, prompt, ident, parent, password)\u001b[0m\n\u001b[1;32m    728\u001b[0m             \u001b[0;32mtry\u001b[0m\u001b[0;34m:\u001b[0m\u001b[0;34m\u001b[0m\u001b[0;34m\u001b[0m\u001b[0m\n\u001b[0;32m--> 729\u001b[0;31m                 \u001b[0mident\u001b[0m\u001b[0;34m,\u001b[0m \u001b[0mreply\u001b[0m \u001b[0;34m=\u001b[0m \u001b[0mself\u001b[0m\u001b[0;34m.\u001b[0m\u001b[0msession\u001b[0m\u001b[0;34m.\u001b[0m\u001b[0mrecv\u001b[0m\u001b[0;34m(\u001b[0m\u001b[0mself\u001b[0m\u001b[0;34m.\u001b[0m\u001b[0mstdin_socket\u001b[0m\u001b[0;34m,\u001b[0m \u001b[0;36m0\u001b[0m\u001b[0;34m)\u001b[0m\u001b[0;34m\u001b[0m\u001b[0;34m\u001b[0m\u001b[0m\n\u001b[0m\u001b[1;32m    730\u001b[0m             \u001b[0;32mexcept\u001b[0m \u001b[0mException\u001b[0m\u001b[0;34m:\u001b[0m\u001b[0;34m\u001b[0m\u001b[0;34m\u001b[0m\u001b[0m\n",
            "\u001b[0;32m/usr/local/lib/python3.7/dist-packages/jupyter_client/session.py\u001b[0m in \u001b[0;36mrecv\u001b[0;34m(self, socket, mode, content, copy)\u001b[0m\n\u001b[1;32m    802\u001b[0m         \u001b[0;32mtry\u001b[0m\u001b[0;34m:\u001b[0m\u001b[0;34m\u001b[0m\u001b[0;34m\u001b[0m\u001b[0m\n\u001b[0;32m--> 803\u001b[0;31m             \u001b[0mmsg_list\u001b[0m \u001b[0;34m=\u001b[0m \u001b[0msocket\u001b[0m\u001b[0;34m.\u001b[0m\u001b[0mrecv_multipart\u001b[0m\u001b[0;34m(\u001b[0m\u001b[0mmode\u001b[0m\u001b[0;34m,\u001b[0m \u001b[0mcopy\u001b[0m\u001b[0;34m=\u001b[0m\u001b[0mcopy\u001b[0m\u001b[0;34m)\u001b[0m\u001b[0;34m\u001b[0m\u001b[0;34m\u001b[0m\u001b[0m\n\u001b[0m\u001b[1;32m    804\u001b[0m         \u001b[0;32mexcept\u001b[0m \u001b[0mzmq\u001b[0m\u001b[0;34m.\u001b[0m\u001b[0mZMQError\u001b[0m \u001b[0;32mas\u001b[0m \u001b[0me\u001b[0m\u001b[0;34m:\u001b[0m\u001b[0;34m\u001b[0m\u001b[0;34m\u001b[0m\u001b[0m\n",
            "\u001b[0;32m/usr/local/lib/python3.7/dist-packages/zmq/sugar/socket.py\u001b[0m in \u001b[0;36mrecv_multipart\u001b[0;34m(self, flags, copy, track)\u001b[0m\n\u001b[1;32m    624\u001b[0m         \"\"\"\n\u001b[0;32m--> 625\u001b[0;31m         \u001b[0mparts\u001b[0m \u001b[0;34m=\u001b[0m \u001b[0;34m[\u001b[0m\u001b[0mself\u001b[0m\u001b[0;34m.\u001b[0m\u001b[0mrecv\u001b[0m\u001b[0;34m(\u001b[0m\u001b[0mflags\u001b[0m\u001b[0;34m,\u001b[0m \u001b[0mcopy\u001b[0m\u001b[0;34m=\u001b[0m\u001b[0mcopy\u001b[0m\u001b[0;34m,\u001b[0m \u001b[0mtrack\u001b[0m\u001b[0;34m=\u001b[0m\u001b[0mtrack\u001b[0m\u001b[0;34m)\u001b[0m\u001b[0;34m]\u001b[0m\u001b[0;34m\u001b[0m\u001b[0;34m\u001b[0m\u001b[0m\n\u001b[0m\u001b[1;32m    626\u001b[0m         \u001b[0;31m# have first part already, only loop while more to receive\u001b[0m\u001b[0;34m\u001b[0m\u001b[0;34m\u001b[0m\u001b[0;34m\u001b[0m\u001b[0m\n",
            "\u001b[0;32mzmq/backend/cython/socket.pyx\u001b[0m in \u001b[0;36mzmq.backend.cython.socket.Socket.recv\u001b[0;34m()\u001b[0m\n",
            "\u001b[0;32mzmq/backend/cython/socket.pyx\u001b[0m in \u001b[0;36mzmq.backend.cython.socket.Socket.recv\u001b[0;34m()\u001b[0m\n",
            "\u001b[0;32mzmq/backend/cython/socket.pyx\u001b[0m in \u001b[0;36mzmq.backend.cython.socket._recv_copy\u001b[0;34m()\u001b[0m\n",
            "\u001b[0;32m/usr/local/lib/python3.7/dist-packages/zmq/backend/cython/checkrc.pxd\u001b[0m in \u001b[0;36mzmq.backend.cython.checkrc._check_rc\u001b[0;34m()\u001b[0m\n",
            "\u001b[0;31mKeyboardInterrupt\u001b[0m: ",
            "\nDuring handling of the above exception, another exception occurred:\n",
            "\u001b[0;31mKeyboardInterrupt\u001b[0m                         Traceback (most recent call last)",
            "\u001b[0;32m<ipython-input-42-05957c89c25e>\u001b[0m in \u001b[0;36m<module>\u001b[0;34m()\u001b[0m\n\u001b[1;32m     47\u001b[0m   \u001b[0mprint\u001b[0m\u001b[0;34m(\u001b[0m\u001b[0;34mf'[{rk}]: {rv}'\u001b[0m\u001b[0;34m)\u001b[0m\u001b[0;34m\u001b[0m\u001b[0;34m\u001b[0m\u001b[0m\n\u001b[1;32m     48\u001b[0m \u001b[0;34m\u001b[0m\u001b[0m\n\u001b[0;32m---> 49\u001b[0;31m \u001b[0mresposta_usuario\u001b[0m \u001b[0;34m=\u001b[0m \u001b[0minput\u001b[0m\u001b[0;34m(\u001b[0m\u001b[0;34m'Sua resposta:'\u001b[0m\u001b[0;34m)\u001b[0m\u001b[0;34m\u001b[0m\u001b[0;34m\u001b[0m\u001b[0m\n\u001b[0m\u001b[1;32m     50\u001b[0m \u001b[0;34m\u001b[0m\u001b[0m\n\u001b[1;32m     51\u001b[0m \u001b[0;32mif\u001b[0m \u001b[0mresposta_usuario\u001b[0m \u001b[0;34m==\u001b[0m \u001b[0mpv\u001b[0m\u001b[0;34m[\u001b[0m\u001b[0;34m'resposta_certa'\u001b[0m\u001b[0;34m]\u001b[0m\u001b[0;34m:\u001b[0m\u001b[0;34m\u001b[0m\u001b[0;34m\u001b[0m\u001b[0m\n",
            "\u001b[0;32m/usr/local/lib/python3.7/dist-packages/ipykernel/kernelbase.py\u001b[0m in \u001b[0;36mraw_input\u001b[0;34m(self, prompt)\u001b[0m\n\u001b[1;32m    702\u001b[0m             \u001b[0mself\u001b[0m\u001b[0;34m.\u001b[0m\u001b[0m_parent_ident\u001b[0m\u001b[0;34m,\u001b[0m\u001b[0;34m\u001b[0m\u001b[0;34m\u001b[0m\u001b[0m\n\u001b[1;32m    703\u001b[0m             \u001b[0mself\u001b[0m\u001b[0;34m.\u001b[0m\u001b[0m_parent_header\u001b[0m\u001b[0;34m,\u001b[0m\u001b[0;34m\u001b[0m\u001b[0;34m\u001b[0m\u001b[0m\n\u001b[0;32m--> 704\u001b[0;31m             \u001b[0mpassword\u001b[0m\u001b[0;34m=\u001b[0m\u001b[0;32mFalse\u001b[0m\u001b[0;34m,\u001b[0m\u001b[0;34m\u001b[0m\u001b[0;34m\u001b[0m\u001b[0m\n\u001b[0m\u001b[1;32m    705\u001b[0m         )\n\u001b[1;32m    706\u001b[0m \u001b[0;34m\u001b[0m\u001b[0m\n",
            "\u001b[0;32m/usr/local/lib/python3.7/dist-packages/ipykernel/kernelbase.py\u001b[0m in \u001b[0;36m_input_request\u001b[0;34m(self, prompt, ident, parent, password)\u001b[0m\n\u001b[1;32m    732\u001b[0m             \u001b[0;32mexcept\u001b[0m \u001b[0mKeyboardInterrupt\u001b[0m\u001b[0;34m:\u001b[0m\u001b[0;34m\u001b[0m\u001b[0;34m\u001b[0m\u001b[0m\n\u001b[1;32m    733\u001b[0m                 \u001b[0;31m# re-raise KeyboardInterrupt, to truncate traceback\u001b[0m\u001b[0;34m\u001b[0m\u001b[0;34m\u001b[0m\u001b[0;34m\u001b[0m\u001b[0m\n\u001b[0;32m--> 734\u001b[0;31m                 \u001b[0;32mraise\u001b[0m \u001b[0mKeyboardInterrupt\u001b[0m\u001b[0;34m\u001b[0m\u001b[0;34m\u001b[0m\u001b[0m\n\u001b[0m\u001b[1;32m    735\u001b[0m             \u001b[0;32melse\u001b[0m\u001b[0;34m:\u001b[0m\u001b[0;34m\u001b[0m\u001b[0;34m\u001b[0m\u001b[0m\n\u001b[1;32m    736\u001b[0m                 \u001b[0;32mbreak\u001b[0m\u001b[0;34m\u001b[0m\u001b[0;34m\u001b[0m\u001b[0m\n",
            "\u001b[0;31mKeyboardInterrupt\u001b[0m: "
          ]
        }
      ]
    },
    {
      "cell_type": "markdown",
      "metadata": {
        "id": "6YxV6i49s8gS"
      },
      "source": [
        "# Nova seção"
      ]
    }
  ]
}